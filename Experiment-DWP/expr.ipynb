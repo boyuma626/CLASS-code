{
 "cells": [
  {
   "cell_type": "code",
   "execution_count": 20,
   "id": "085fae20",
   "metadata": {},
   "outputs": [],
   "source": [
    "import numpy as np\n",
    "import pandas as pd\n",
    "import matplotlib.pyplot as plt\n",
    "from sklearn.model_selection import train_test_split \n",
    "from sklearn.svm import SVR\n",
    "from sklearn.metrics import r2_score,mean_squared_error, mean_absolute_error\n",
    "#import cvxpy as cp"
   ]
  },
  {
   "cell_type": "code",
   "execution_count": 21,
   "id": "09cd37c4",
   "metadata": {},
   "outputs": [],
   "source": [
    "#向量的交叉项表示\n",
    "#输入的是矩阵N*n维，N是样本数，n是特征数\n",
    "def lvec(x):\n",
    "    N,n = x.shape\n",
    "    s=[]\n",
    "    for i in range(N):\n",
    "        for j in range(n):\n",
    "            for k in range(j,n):         \n",
    "                if k==j:\n",
    "                    c=1/2*x[i,j]*x[i,j]\n",
    "                    s.append(c)\n",
    "                else:\n",
    "                    c=x[i,j]*x[i,k]\n",
    "                    s.append(c)\n",
    "            \n",
    "                \n",
    "    s=np.array(s).reshape(N,-1)\n",
    "    \n",
    "              \n",
    "    return s\n",
    "#返回的也是N*m矩阵，m对应的是升维后列数\n",
    "\n",
    "#产生G矩阵\n",
    "def generateG(x):\n",
    "    N,n = x.shape\n",
    "    e=np.ones((N,1))\n",
    "    s=lvec(x)\n",
    "    z=np.hstack((s,x,e))\n",
    "    eta=lvec(z)\n",
    "    r=np.hstack((eta,s))\n",
    "    G=np.hstack((r,x,e))\n",
    "    return G"
   ]
  },
  {
   "cell_type": "code",
   "execution_count": 22,
   "id": "76ec7225",
   "metadata": {},
   "outputs": [],
   "source": [
    "#定义人工数据集函数\n",
    "def F_2x(x):\n",
    "    y=abs(x-1)/4+abs(np.sin(np.pi*(1+(x-1)/4)+1))+1\n",
    "    return y\n",
    "N1=100 #总数据点\n",
    "\n",
    "\n",
    "x_1= np.linspace(-5,5,N1)\n",
    "#N个样本点，1维特征\n",
    "x_1=x_1.reshape(-1,1)\n",
    "y=F_2x(x_1)+0*np.random.randn(N1,1)\n",
    "##随机注入离群值\n",
    "for i in range(100):\n",
    "    if i % 2==0:\n",
    "        if np.random.random(1)>=0.5:\n",
    "       \n",
    "            y[i]+=0\n",
    "        else:\n",
    "            y[i]-=0\n",
    "\n",
    "m=0.2\n",
    "x_tr, x_te, y_tr, y_te = train_test_split(\n",
    "    x_1,y, test_size=m, random_state=1)"
   ]
  },
  {
   "cell_type": "code",
   "execution_count": 23,
   "id": "d0998cd3",
   "metadata": {},
   "outputs": [],
   "source": [
    "#数据升维\n",
    "z_1=np.hstack((x_1,x_1**3))\n",
    "z_tr, z_te, y_tr, y_te = train_test_split(\n",
    "    z_1,y, test_size=m, random_state=2)\n",
    "#G是训练集+测试集\n",
    "G=generateG(z_1)\n",
    "#G_te是测试集\n",
    "G_te=generateG(z_te)\n",
    "#G_tr是测试集\n",
    "G_tr=generateG(z_tr)"
   ]
  },
  {
   "cell_type": "code",
   "execution_count": 6,
   "id": "6f7fa8e9",
   "metadata": {},
   "outputs": [],
   "source": [
    "from coptpy import *"
   ]
  },
  {
   "cell_type": "code",
   "execution_count": 24,
   "id": "5235f3db",
   "metadata": {
    "scrolled": true
   },
   "outputs": [
    {
     "name": "stdout",
     "output_type": "stream",
     "text": [
      "\n",
      "\n"
     ]
    }
   ],
   "source": [
    "#利用CVXPY‘调用GUROBI’求解TWDWPSVR-1对偶问题\n",
    "import cvxopt\n",
    "import cvxpy as cp\n",
    "\n",
    "#指明参数有助于调节参数以达到最优\n",
    "C1 = 1\n",
    "C2 = 100\n",
    "nu1 = 0.1\n",
    "lambda1 = 1\n",
    "N1,l=G.shape\n",
    "N=80\n",
    "e=np.ones((N,1))\n",
    "alpha1 = cp.Variable((N, 1))\n",
    "r1 = cp.Variable((N, 1))\n",
    "r11= cp.Variable((N, 1))\n",
    "expr1 = 1/(2*lambda1)\n",
    "expr2=lambda1*y_tr-(alpha1+(r11-r1))\n",
    "expr3 = G_tr@np.linalg.inv(G_tr.T@G_tr+C1*np.identity(l, dtype=int))@G_tr.T\n",
    "expr3 = cp.atoms.affine.wraps.psd_wrap(expr3)\n",
    "expr4=alpha1+(r11-r1)\n",
    "q=y_tr\n",
    "\n",
    "objective = cp.Minimize((expr1)*cp.quad_form(expr2, expr3) + q.T @ expr4)\n",
    "constraints = [0 <= alpha1, alpha1 <= C2*e/N,r1+r11<=1-lambda1,0 <= sum(alpha1), sum(alpha1) <= C2*nu1,0 <= r1, 0<=r11]\n",
    "prob = cp.Problem(objective, constraints)\n",
    "#results = prob.solve(solver=cp.GUROBI, verbose=True)\n",
    "results = prob.solve(solver='COPT')\n",
    "\n",
    "obj_val = []\n",
    "obj_val.append(prob.objective.value)\n",
    "\n",
    "\n",
    "#求解TWDWPSVR-2对偶问题\n",
    "\n",
    "#指明参数有助于调节参数以达到最优\n",
    "C3 = 1\n",
    "C4 = 100\n",
    "nu2 = 0.1\n",
    "lambda2 = 1\n",
    "N=80\n",
    "e=np.ones((N,1))\n",
    "\n",
    "r2 = cp.Variable((N, 1))\n",
    "r21= cp.Variable((N, 1))\n",
    "alpha2 = cp.Variable((N, 1))\n",
    "\n",
    "expr11 = 1/(2*lambda2)\n",
    "expr22=lambda2*y_tr+(alpha2+(r2-r21))\n",
    "#expr2 = (lambda1*y-alpha1+e*(r-r1)).T\n",
    "expr33= G_tr@np.linalg.inv(G_tr.T@G_tr+C1*np.identity(l, dtype=int))@G_tr.T\n",
    "expr33 = cp.atoms.affine.wraps.psd_wrap(expr33)                                                                                                          \n",
    "expr44=alpha2+(r2-r21)\n",
    "q=-y_tr\n",
    "# Matrix variable with shape (5, 1).\n",
    "\n",
    "\n",
    "objective = cp.Minimize((expr11)*cp.quad_form(expr22, expr33) + q.T @ expr44)\n",
    "# 定义约束条件\n",
    "constraints = [0 <= alpha2, \n",
    "alpha2 <= C4*e/N,\n",
    "r2+r21<=1-lambda2,\n",
    "0 <= sum(alpha2),\n",
    "sum(alpha2) <= C4*nu2,\n",
    "0 <= r2, 0<=r21]\n",
    "\n",
    "# 建⽴模型\n",
    "prob = cp.Problem(objective, constraints)\n",
    "# 模型求解\n",
    "#results = prob.solve(solver=cp.GLPK_MI, verbose=True)\n",
    "#results = prob.solve(solver=cp.GUROBI, verbose=True)\n",
    "results = prob.solve(solver='COPT')\n",
    "#print('问题的最优值为：{:.0f}'.format(prob.objective.value))\n"
   ]
  },
  {
   "cell_type": "code",
   "execution_count": 26,
   "id": "8384be0d",
   "metadata": {
    "scrolled": true
   },
   "outputs": [
    {
     "data": {
      "image/png": "[encoded data removed]",
      "text/plain": [
       "<Figure size 640x480 with 1 Axes>"
      ]
     },
     "metadata": {},
     "output_type": "display_data"
    },
    {
     "name": "stdout",
     "output_type": "stream",
     "text": [
      "得分1: 0.9296317748082921\n",
      "MSE1: 0.012215899604031974\n",
      "得分2: 0.9552756451629073\n",
      "MSE2: 0.007764132562055967\n"
     ]
    }
   ],
   "source": [
    "\n",
    "#训练过程使用交叉验证\n",
    "##处理求解后的模型，在给定参数的情况下通过区间搜索参数值,给出要求的变量值\n",
    "#可视化预测的结果，根据评价指标求得对应的值\n",
    "a=expr2.value\n",
    "u1=1/lambda1*np.linalg.inv(G_tr.T@G_tr+C1*np.identity(l, dtype=int))@G_tr.T@a\n",
    "b=expr22.value\n",
    "u2=1/lambda2*np.linalg.inv(G_tr.T@G_tr+C3*np.identity(l, dtype=int))@G_tr.T@b\n",
    "y_hat1=G_tr@u1\n",
    "y_hat2=G_tr@u2\n",
    "\n",
    "plt.scatter(x_tr, y_hat1,marker=\"o\",label=\"lowerpredict\")\n",
    "plt.scatter(x_tr, y_hat2,marker=\"h\",label=\"upperpredict\")\n",
    "plt.scatter(x_tr, y_tr, marker='*',label=\"real\")\n",
    "plt.legend()\n",
    "plt.show()\n",
    "\n",
    "#测试过程\n",
    "\n",
    "print(\"得分1:\", r2_score(y_tr, y_hat1))\n",
    "print(\"MSE1:\", mean_squared_error(y_tr, y_hat1))\n",
    "\n",
    "\n",
    "print(\"得分2:\", r2_score(y_tr, y_hat2))\n",
    "print(\"MSE2:\", mean_squared_error(y_tr, y_hat2))\n",
    "#列表格分析优劣性\n",
    "\n",
    "\n"
   ]
  },
  {
   "cell_type": "code",
   "execution_count": 18,
   "id": "4b0fa28c",
   "metadata": {},
   "outputs": [
    {
     "name": "stdout",
     "output_type": "stream",
     "text": [
      "\n",
      "\n",
      "得分1: 0.9998573908173825\n",
      "MSE1: 2.121281715419116e-05\n",
      "得分2: 0.9997589205580406\n",
      "MSE2: 3.586006194028549e-05\n",
      "总得分: 0.999904870450263\n",
      "总MSE: 1.4150321231019537e-05\n"
     ]
    }
   ],
   "source": [
    "#测试过程\n",
    "#利用CVXPY‘调用GUROBI’求解TWDWPSVR-1对偶问题\n",
    "import cvxopt\n",
    "import cvxpy as cp\n",
    "\n",
    "#指明参数有助于调节参数以达到最优\n",
    "C1 = 1\n",
    "C2 = 100\n",
    "nu1 = 0.1\n",
    "lambda1 = 0.1\n",
    "N1,l=G.shape\n",
    "N=20\n",
    "e=np.ones((N,1))\n",
    "alpha1 = cp.Variable((N, 1))\n",
    "r1 = cp.Variable((N, 1))\n",
    "r11= cp.Variable((N, 1))\n",
    "expr1 = 1/(2*lambda1)\n",
    "expr2=lambda1*y_te-(alpha1+(r11-r1))\n",
    "expr3 = G_te@np.linalg.inv(G_te.T@G_te+C1*np.identity(l, dtype=int))@G_te.T\n",
    "expr3 = cp.atoms.affine.wraps.psd_wrap(expr3)\n",
    "expr4=alpha1+(r11-r1)\n",
    "q=y_te\n",
    "\n",
    "objective = cp.Minimize((expr1)*cp.quad_form(expr2, expr3) + q.T @ expr4)\n",
    "constraints = [0 <= alpha1, alpha1 <= C2*e/N,r1+r11<=1-lambda1,0 <= sum(alpha1), sum(alpha1) <= C2*nu1,0 <= r1, 0<=r11]\n",
    "prob = cp.Problem(objective, constraints)\n",
    "#results = prob.solve(solver=cp.GUROBI, verbose=True)\n",
    "results = prob.solve(solver='COPT')\n",
    "\n",
    "obj_val = []\n",
    "obj_val.append(prob.objective.value)\n",
    "\n",
    "\n",
    "#求解TWDWPSVR-2对偶问题\n",
    "\n",
    "#指明参数有助于调节参数以达到最优\n",
    "C3 = 1\n",
    "C4 = 100\n",
    "nu2 = 0.13\n",
    "lambda2 = 0.01\n",
    "N=20\n",
    "e=np.ones((N,1))\n",
    "\n",
    "r2 = cp.Variable((N, 1))\n",
    "r21= cp.Variable((N, 1))\n",
    "alpha2 = cp.Variable((N, 1))\n",
    "\n",
    "expr11 = 1/(2*lambda2)\n",
    "expr22=lambda2*y_te+(alpha2+(r2-r21))\n",
    "#expr2 = (lambda1*y-alpha1+e*(r-r1)).T\n",
    "expr33= G_te@np.linalg.inv(G_te.T@G_te+C1*np.identity(l, dtype=int))@G_te.T\n",
    "expr33 = cp.atoms.affine.wraps.psd_wrap(expr33)                                                                                                          \n",
    "expr44=alpha2+(r2-r21)\n",
    "q=-y_te\n",
    "# Matrix variable with shape (5, 1).\n",
    "\n",
    "\n",
    "objective = cp.Minimize((expr11)*cp.quad_form(expr22, expr33) + q.T @ expr44)\n",
    "# 定义约束条件\n",
    "constraints = [0 <= alpha2, \n",
    "alpha2 <= C4*e/N,\n",
    "r2+r21<=1-lambda2,\n",
    "0 <= sum(alpha2),\n",
    "sum(alpha2) <= C4*nu2,\n",
    "0 <= r2, 0<=r21]\n",
    "\n",
    "# 建⽴模型\n",
    "prob = cp.Problem(objective, constraints)\n",
    "# 模型求解\n",
    "#results = prob.solve(solver=cp.GLPK_MI, verbose=True)\n",
    "#results = prob.solve(solver=cp.GUROBI, verbose=True)\n",
    "results = prob.solve(solver='COPT')\n",
    "#print('问题的最优值为：{:.0f}'.format(prob.objective.value))\n",
    "a=expr2.value\n",
    "u1=1/lambda1*np.linalg.inv(G_te.T@G_te+C1*np.identity(l, dtype=int))@G_te.T@a\n",
    "b=expr22.value\n",
    "u2=1/lambda2*np.linalg.inv(G_te.T@G_te+C3*np.identity(l, dtype=int))@G_te.T@b\n",
    "y_hat1=G_te@u1\n",
    "y_hat2=G_te@u2\n",
    "\n",
    "print(\"得分1:\", r2_score(y_te, y_hat1))\n",
    "print(\"MSE1:\", mean_squared_error(y_te, y_hat1))\n",
    "\n",
    "\n",
    "print(\"得分2:\", r2_score(y_te, y_hat2))\n",
    "print(\"MSE2:\", mean_squared_error(y_te, y_hat2))\n",
    "y_hat_z=(y_hat1+y_hat2)/2\n",
    "print(\"总得分:\", r2_score(y_te,  y_hat_z))\n",
    "print(\"总MSE:\", mean_squared_error(y_te, y_hat_z))"
   ]
  },
  {
   "cell_type": "code",
   "execution_count": 14,
   "id": "16ea2d88",
   "metadata": {},
   "outputs": [],
   "source": [
    "#封装函数，使训练过程通过接口调入\n",
    "class DWPSVR:\n",
    "    def __init__(self, x= 0.5):\n",
    "        self.x = x\n",
    "        self.multipler = None\n",
    "    def fit(x, y):\n",
    "        pass\n",
    "    def predict(x, y):\n",
    "        pass\n",
    "    \n",
    "    \n"
   ]
  },
  {
   "cell_type": "code",
   "execution_count": 10,
   "id": "61f70999",
   "metadata": {},
   "outputs": [],
   "source": [
    "class Vector:\n",
    "    pass"
   ]
  },
  {
   "cell_type": "code",
   "execution_count": 2,
   "id": "811b5cdb",
   "metadata": {},
   "outputs": [],
   "source": [
    "v1 = Vector()"
   ]
  },
  {
   "cell_type": "code",
   "execution_count": 3,
   "id": "28cbd06e",
   "metadata": {},
   "outputs": [
    {
     "data": {
      "text/plain": [
       "<__main__.Vector at 0x1d98cda32b0>"
      ]
     },
     "execution_count": 3,
     "metadata": {},
     "output_type": "execute_result"
    }
   ],
   "source": [
    "v1"
   ]
  },
  {
   "cell_type": "code",
   "execution_count": 4,
   "id": "9f542026",
   "metadata": {},
   "outputs": [],
   "source": [
    "v1.x = 1"
   ]
  },
  {
   "cell_type": "code",
   "execution_count": 5,
   "id": "8c27a749",
   "metadata": {},
   "outputs": [
    {
     "data": {
      "text/plain": [
       "1"
      ]
     },
     "execution_count": 5,
     "metadata": {},
     "output_type": "execute_result"
    }
   ],
   "source": [
    "v1.x"
   ]
  },
  {
   "cell_type": "code",
   "execution_count": 15,
   "id": "a56b581f",
   "metadata": {},
   "outputs": [],
   "source": [
    "svr = DWPSVR(x=2)"
   ]
  },
  {
   "cell_type": "code",
   "execution_count": 16,
   "id": "fae34a6b",
   "metadata": {},
   "outputs": [
    {
     "data": {
      "text/plain": [
       "<__main__.DWPSVR at 0x1d98d8313d0>"
      ]
     },
     "execution_count": 16,
     "metadata": {},
     "output_type": "execute_result"
    }
   ],
   "source": [
    "svr"
   ]
  },
  {
   "cell_type": "code",
   "execution_count": 17,
   "id": "ac2b5545",
   "metadata": {},
   "outputs": [
    {
     "data": {
      "text/plain": [
       "2"
      ]
     },
     "execution_count": 17,
     "metadata": {},
     "output_type": "execute_result"
    }
   ],
   "source": [
    "svr.x"
   ]
  },
  {
   "cell_type": "code",
   "execution_count": 18,
   "id": "3f83db3b",
   "metadata": {},
   "outputs": [],
   "source": [
    "svr2 = DWPSVR()"
   ]
  },
  {
   "cell_type": "code",
   "execution_count": 20,
   "id": "47bc9e03",
   "metadata": {},
   "outputs": [
    {
     "data": {
      "text/plain": [
       "0.5"
      ]
     },
     "execution_count": 20,
     "metadata": {},
     "output_type": "execute_result"
    }
   ],
   "source": [
    "svr2.x"
   ]
  },
  {
   "cell_type": "code",
   "execution_count": 21,
   "id": "84d507f8",
   "metadata": {},
   "outputs": [],
   "source": [
    "svr.multipler"
   ]
  },
  {
   "cell_type": "code",
   "execution_count": 1,
   "id": "49738c36",
   "metadata": {},
   "outputs": [],
   "source": [
    "from model.DWPSVR import DWPSVR"
   ]
  },
  {
   "cell_type": "code",
   "execution_count": 2,
   "id": "dcebfa57",
   "metadata": {},
   "outputs": [
    {
     "ename": "TypeError",
     "evalue": "__init__() missing 4 required positional arguments: 'C1', 'C2', 'nu1', and 'lambda1'",
     "output_type": "error",
     "traceback": [
      "\u001b[1;31m---------------------------------------------------------------------------\u001b[0m",
      "\u001b[1;31mTypeError\u001b[0m                                 Traceback (most recent call last)",
      "\u001b[1;32m~\\AppData\\Local\\Temp\\ipykernel_17424\\4040435700.py\u001b[0m in \u001b[0;36m<module>\u001b[1;34m\u001b[0m\n\u001b[1;32m----> 1\u001b[1;33m \u001b[0mDWPSVR\u001b[0m\u001b[1;33m(\u001b[0m\u001b[1;33m)\u001b[0m\u001b[1;33m\u001b[0m\u001b[1;33m\u001b[0m\u001b[0m\n\u001b[0m",
      "\u001b[1;31mTypeError\u001b[0m: __init__() missing 4 required positional arguments: 'C1', 'C2', 'nu1', and 'lambda1'"
     ]
    }
   ],
   "source": [
    "DWPSVR()"
   ]
  },
  {
   "cell_type": "code",
   "execution_count": 3,
   "id": "df62548b",
   "metadata": {},
   "outputs": [
    {
     "ename": "ImportError",
     "evalue": "cannot import name 'QSSVR' from 'model.DWPSVR' (C:\\Users\\DELL\\Experiment-DWP\\model\\DWPSVR.py)",
     "output_type": "error",
     "traceback": [
      "\u001b[1;31m---------------------------------------------------------------------------\u001b[0m",
      "\u001b[1;31mImportError\u001b[0m                               Traceback (most recent call last)",
      "\u001b[1;32m~\\AppData\\Local\\Temp\\ipykernel_17424\\1288041213.py\u001b[0m in \u001b[0;36m<module>\u001b[1;34m\u001b[0m\n\u001b[1;32m----> 1\u001b[1;33m \u001b[1;32mfrom\u001b[0m \u001b[0mmodel\u001b[0m\u001b[1;33m.\u001b[0m\u001b[0mDWPSVR\u001b[0m \u001b[1;32mimport\u001b[0m \u001b[0mQSSVR\u001b[0m\u001b[1;33m\u001b[0m\u001b[1;33m\u001b[0m\u001b[0m\n\u001b[0m",
      "\u001b[1;31mImportError\u001b[0m: cannot import name 'QSSVR' from 'model.DWPSVR' (C:\\Users\\DELL\\Experiment-DWP\\model\\DWPSVR.py)"
     ]
    }
   ],
   "source": [
    "from model.DWPSVR import QSSVR"
   ]
  },
  {
   "cell_type": "code",
   "execution_count": null,
   "id": "a59d6c1a",
   "metadata": {},
   "outputs": [],
   "source": []
  }
 ],
 "metadata": {
  "kernelspec": {
   "display_name": "Python 3",
   "language": "python",
   "name": "python3"
  },
  "language_info": {
   "codemirror_mode": {
    "name": "ipython",
    "version": 3
   },
   "file_extension": ".py",
   "mimetype": "text/x-python",
   "name": "python",
   "nbconvert_exporter": "python",
   "pygments_lexer": "ipython3",
   "version": "3.9.13"
  }
 },
 "nbformat": 4,
 "nbformat_minor": 5
}
